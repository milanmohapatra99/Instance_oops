{
 "cells": [
  {
   "cell_type": "code",
   "execution_count": 3,
   "id": "642f359d",
   "metadata": {},
   "outputs": [
    {
     "name": "stdout",
     "output_type": "stream",
     "text": [
      "IBM\n",
      "IBM\n",
      "HP\n",
      "HP\n",
      "TCS\n",
      "TCS\n",
      "4000\n",
      "40000\n",
      "5000\n",
      "6000\n",
      "5000\n",
      "80000\n"
     ]
    }
   ],
   "source": [
    "#by using instance\n",
    "class Employee:\n",
    "    company = \"IBM\"\n",
    "    salary = 5000\n",
    "lucy = Employee()\n",
    "silu = Employee()\n",
    "maria = Employee()\n",
    "ani = Employee()\n",
    "piyush = Employee()\n",
    "abhishek = Employee()\n",
    "lucy.salary = 4000\n",
    "silu.salary = 40000\n",
    "print(lucy.company)\n",
    "print(silu.company)\n",
    "Employee.company = \"HP\"\n",
    "print(piyush.company)\n",
    "print(ani.company)\n",
    "Employee.company = \"TCS\"\n",
    "print(abhishek.company)\n",
    "print(maria.company)\n",
    "print(lucy.salary)\n",
    "print(silu.salary)\n",
    "print(abhishek.salary)\n",
    "piyush.salary=6000\n",
    "print(piyush.salary)\n",
    "print(ani.salary)\n",
    "maria.salary=80000\n",
    "print(maria.salary)"
   ]
  },
  {
   "cell_type": "code",
   "execution_count": null,
   "id": "1b6e0021",
   "metadata": {},
   "outputs": [],
   "source": []
  }
 ],
 "metadata": {
  "kernelspec": {
   "display_name": "Python 3 (ipykernel)",
   "language": "python",
   "name": "python3"
  },
  "language_info": {
   "codemirror_mode": {
    "name": "ipython",
    "version": 3
   },
   "file_extension": ".py",
   "mimetype": "text/x-python",
   "name": "python",
   "nbconvert_exporter": "python",
   "pygments_lexer": "ipython3",
   "version": "3.9.7"
  }
 },
 "nbformat": 4,
 "nbformat_minor": 5
}
